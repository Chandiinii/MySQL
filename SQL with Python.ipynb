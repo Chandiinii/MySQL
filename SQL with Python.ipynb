{
 "cells": [
  {
   "cell_type": "code",
   "execution_count": 2,
   "id": "5c633e65",
   "metadata": {},
   "outputs": [],
   "source": [
    "pip install mysql.connector.python\n"
   ]
  },
  {
   "cell_type": "code",
   "execution_count": 38,
   "id": "5bfcdba0",
   "metadata": {},
   "outputs": [],
   "source": [
    "#Import libraries\n",
    "\n",
    "import mysql.connector\n",
    "from mysql.connector import Error\n",
    "import pandas as pd"
   ]
  },
  {
   "cell_type": "code",
   "execution_count": 39,
   "id": "b2ff57cb",
   "metadata": {},
   "outputs": [
    {
     "name": "stdout",
     "output_type": "stream",
     "text": [
      "MySQL Database connection successful\n"
     ]
    }
   ],
   "source": [
    "def create_server_connection(host_name, user_name, user_password):\n",
    "    connection = None\n",
    "    try:\n",
    "        connection= mysql.connector.connect(\n",
    "                 host = host_name,\n",
    "                 user = user_name,\n",
    "                 passwd = user_password\n",
    "        )\n",
    "        print (\"MySQL Database connection successful\")\n",
    "    except Error as err:\n",
    "        print(f\"Error : '{err}'\")\n",
    "    return connection\n",
    "        \n",
    "#Put our MYSQL Terminal password\n",
    "pw = \"*************\"\n",
    "        \n",
    "#Database name\n",
    "    \n",
    "db = \"mysql_python\"\n",
    "connection = create_server_connection(\"localhost\", \"root\", pw)\n",
    "    "
   ]
  },
  {
   "cell_type": "code",
   "execution_count": 34,
   "id": "273485d3",
   "metadata": {},
   "outputs": [
    {
     "name": "stdout",
     "output_type": "stream",
     "text": [
      "Database created successfully\n"
     ]
    }
   ],
   "source": [
    "#Create mysql_python\n",
    "def create_database(connection, query):\n",
    "    cursor = connection.cursor()\n",
    "    try:\n",
    "        cursor.execute(query)\n",
    "        print(\"Database created successfully\")\n",
    "    except Error as err:\n",
    "        print (f\"Error: '{err}'\")\n",
    "create_database_query = \"Create database mysql_python\"\n",
    "create_database(connection, create_database_query)"
   ]
  },
  {
   "cell_type": "code",
   "execution_count": 40,
   "id": "e9dd7b45",
   "metadata": {},
   "outputs": [],
   "source": [
    "#connect to database\n",
    "\n",
    "def create_db_connection(host_name, user_name, user_password, db_name):\n",
    "    connection = None\n",
    "    try:\n",
    "        connection = mysql.connector.connect(\n",
    "            host = host_name,\n",
    "            user = user_name,\n",
    "           passwd = user_password,\n",
    "           database = db_name)\n",
    "        print(\"MySql database connection successful\")\n",
    "    except Error as err:\n",
    "        print(f\"Error : '{err}'\")\n",
    "    return connection"
   ]
  },
  {
   "cell_type": "code",
   "execution_count": 41,
   "id": "5481eef8",
   "metadata": {},
   "outputs": [],
   "source": [
    "#Execute sql queries\n",
    "def execute_query(connection, query):\n",
    "    cursor = connection.cursor()\n",
    "    try:\n",
    "        cursor.execute(query)\n",
    "        connection.commit()\n",
    "        print(\"Query was successful\")\n",
    "    except Error as err:\n",
    "        print(f\"Error: '{err}'\")\n",
    "        "
   ]
  },
  {
   "cell_type": "code",
   "execution_count": 42,
   "id": "65c980c0",
   "metadata": {},
   "outputs": [
    {
     "name": "stdout",
     "output_type": "stream",
     "text": [
      "MySql database connection successful\n",
      "Query was successful\n"
     ]
    }
   ],
   "source": [
    "create_orders_table = \"\"\"\n",
    "create table orders(\n",
    "order_id int primary key,\n",
    "customer_name varchar(30) not null,\n",
    "product_name varchar(20) not null,\n",
    "date_ordered date,\n",
    "quantity int,\n",
    "unit_price float,\n",
    "phone_number varchar(20));\n",
    "\"\"\"\n",
    "#connect to the database\n",
    "connection = create_db_connection(\"localhost\", \"root\", pw, db)\n",
    "execute_query(connection, create_orders_table)\n"
   ]
  },
  {
   "cell_type": "code",
   "execution_count": 48,
   "id": "26f43de0",
   "metadata": {},
   "outputs": [
    {
     "name": "stdout",
     "output_type": "stream",
     "text": [
      "MySql database connection successful\n",
      "Query was successful\n"
     ]
    }
   ],
   "source": [
    "#Insert data\n",
    "data_orders = \"\"\"\n",
    "insert into orders values\n",
    "(101, 'Steve', 'Laptop', '2018-06-12', 2, 80000, '8382929292'),\n",
    "(102, 'Jos', 'Books', '2019-02-10', 12, 30, '6728389191'),\n",
    "(103, 'Stacy', 'Trousers', '2019-12-25', 5, 50, '8292922092'),\n",
    "(104, 'Nancy', 'T-shirts', '2018-07-14', 30, 40, '6282929192'),\n",
    "(105, 'Maria', 'Headphones', '2019-08-20', 10, 300, 8292020298),\n",
    "(106, 'Danny', 'Smart TV', '2018-08-20', 10, 7900, '9826373837'),\n",
    "(107, 'Monica', 'Camera', '2019-10-19', 20, 2900, '8927263738'),\n",
    "(108, 'Veronica', 'Pressure Cooker','2017-06-18', 12, 900, '27383939392'),\n",
    "(109, 'Shirley', 'Smart phone', '2019-08-19', 10, 63, '7382829291'),\n",
    "(110, 'Ama', 'Sound system', '2018-06-13', 12, 11, '93292738392');\n",
    "\"\"\"\n",
    "connection = create_db_connection(\"localhost\", \"root\", pw, db)\n",
    "execute_query(connection, data_orders)"
   ]
  },
  {
   "cell_type": "code",
   "execution_count": 49,
   "id": "4869c2d5",
   "metadata": {},
   "outputs": [],
   "source": [
    "def read_query(connection, query):\n",
    "    cursor = connection.cursor()\n",
    "    result = None\n",
    "    try:\n",
    "        cursor.execute(query)\n",
    "        result = cursor.fetchall()\n",
    "        return result\n",
    "    except Error as err:\n",
    "        print(f\"Error: '{err}'\")"
   ]
  },
  {
   "cell_type": "code",
   "execution_count": 50,
   "id": "4504ec26",
   "metadata": {},
   "outputs": [
    {
     "name": "stdout",
     "output_type": "stream",
     "text": [
      "MySql database connection successful\n",
      "(101, 'Steve', 'Laptop', datetime.date(2018, 6, 12), 2, 80000.0, '8382929292')\n",
      "(102, 'Jos', 'Books', datetime.date(2019, 2, 10), 12, 30.0, '6728389191')\n",
      "(103, 'Stacy', 'Trousers', datetime.date(2019, 12, 25), 5, 50.0, '8292922092')\n",
      "(104, 'Nancy', 'T-shirts', datetime.date(2018, 7, 14), 30, 40.0, '6282929192')\n",
      "(105, 'Maria', 'Headphones', datetime.date(2019, 8, 20), 10, 300.0, '8292020298')\n",
      "(106, 'Danny', 'Smart TV', datetime.date(2018, 8, 20), 10, 7900.0, '9826373837')\n",
      "(107, 'Monica', 'Camera', datetime.date(2019, 10, 19), 20, 2900.0, '8927263738')\n",
      "(108, 'Veronica', 'Pressure Cooker', datetime.date(2017, 6, 18), 12, 900.0, '27383939392')\n",
      "(109, 'Shirley', 'Smart phone', datetime.date(2019, 8, 19), 10, 63.0, '7382829291')\n",
      "(110, 'Ama', 'Sound system', datetime.date(2018, 6, 13), 12, 11.0, '93292738392')\n"
     ]
    }
   ],
   "source": [
    "#using the select stmt\n",
    "q1 = \"\"\"\n",
    "select *from orders;\n",
    "\"\"\"\n",
    "connection = create_db_connection(\"localhost\", \"root\", pw, db)\n",
    "results = read_query(connection, q1)\n",
    "for result in results:\n",
    "    print(result)"
   ]
  },
  {
   "cell_type": "code",
   "execution_count": 51,
   "id": "ff65fbbe",
   "metadata": {},
   "outputs": [
    {
     "name": "stdout",
     "output_type": "stream",
     "text": [
      "MySql database connection successful\n",
      "('Steve', '8382929292')\n",
      "('Jos', '6728389191')\n",
      "('Stacy', '8292922092')\n",
      "('Nancy', '6282929192')\n",
      "('Maria', '8292020298')\n",
      "('Danny', '9826373837')\n",
      "('Monica', '8927263738')\n",
      "('Veronica', '27383939392')\n",
      "('Shirley', '7382829291')\n",
      "('Ama', '93292738392')\n"
     ]
    }
   ],
   "source": [
    "q2 = \"\"\"\n",
    "select customer_name, phone_number from orders;\n",
    "\"\"\"\n",
    "connection = create_db_connection(\"localhost\", \"root\", pw, db)\n",
    "results = read_query(connection, q2)\n",
    "for result in results:\n",
    "    print(result)"
   ]
  },
  {
   "cell_type": "code",
   "execution_count": 52,
   "id": "c7709030",
   "metadata": {},
   "outputs": [
    {
     "name": "stdout",
     "output_type": "stream",
     "text": [
      "MySql database connection successful\n",
      "(2018,)\n",
      "(2019,)\n",
      "(2019,)\n",
      "(2018,)\n",
      "(2019,)\n",
      "(2018,)\n",
      "(2019,)\n",
      "(2017,)\n",
      "(2019,)\n",
      "(2018,)\n"
     ]
    }
   ],
   "source": [
    "q3 = \"\"\"\n",
    "select year(date_ordered) from orders;\n",
    "\"\"\"\n",
    "connection = create_db_connection(\"localhost\", \"root\", pw, db)\n",
    "results = read_query(connection, q3)\n",
    "for result in results:\n",
    "    print(result)"
   ]
  },
  {
   "cell_type": "code",
   "execution_count": 53,
   "id": "c8acb3ca",
   "metadata": {},
   "outputs": [
    {
     "name": "stdout",
     "output_type": "stream",
     "text": [
      "MySql database connection successful\n",
      "(2018,)\n",
      "(2019,)\n",
      "(2017,)\n"
     ]
    }
   ],
   "source": [
    "q4 = \"\"\"\n",
    "select distinct year(date_ordered) from orders;\n",
    "\"\"\"\n",
    "connection = create_db_connection(\"localhost\", \"root\", pw, db)\n",
    "results = read_query(connection, q4)\n",
    "for result in results:\n",
    "    print(result)"
   ]
  },
  {
   "cell_type": "code",
   "execution_count": 54,
   "id": "16b6b14e",
   "metadata": {},
   "outputs": [
    {
     "name": "stdout",
     "output_type": "stream",
     "text": [
      "MySql database connection successful\n",
      "(101, 'Steve', 'Laptop', datetime.date(2018, 6, 12), 2, 80000.0, '8382929292')\n",
      "(104, 'Nancy', 'T-shirts', datetime.date(2018, 7, 14), 30, 40.0, '6282929192')\n",
      "(106, 'Danny', 'Smart TV', datetime.date(2018, 8, 20), 10, 7900.0, '9826373837')\n",
      "(108, 'Veronica', 'Pressure Cooker', datetime.date(2017, 6, 18), 12, 900.0, '27383939392')\n",
      "(110, 'Ama', 'Sound system', datetime.date(2018, 6, 13), 12, 11.0, '93292738392')\n"
     ]
    }
   ],
   "source": [
    "q5 = \"\"\"\n",
    "select *from orders where date_ordered < '2018-12-31';\n",
    "\"\"\"\n",
    "connection = create_db_connection(\"localhost\", \"root\", pw, db)\n",
    "results = read_query(connection, q5)\n",
    "for result in results:\n",
    "    print(result)"
   ]
  },
  {
   "cell_type": "code",
   "execution_count": 55,
   "id": "2dd77b92",
   "metadata": {},
   "outputs": [
    {
     "name": "stdout",
     "output_type": "stream",
     "text": [
      "MySql database connection successful\n",
      "(102, 'Jos', 'Books', datetime.date(2019, 2, 10), 12, 30.0, '6728389191')\n",
      "(103, 'Stacy', 'Trousers', datetime.date(2019, 12, 25), 5, 50.0, '8292922092')\n",
      "(105, 'Maria', 'Headphones', datetime.date(2019, 8, 20), 10, 300.0, '8292020298')\n",
      "(107, 'Monica', 'Camera', datetime.date(2019, 10, 19), 20, 2900.0, '8927263738')\n",
      "(109, 'Shirley', 'Smart phone', datetime.date(2019, 8, 19), 10, 63.0, '7382829291')\n"
     ]
    }
   ],
   "source": [
    "q6 = \"\"\"\n",
    "select *from orders where date_ordered > '2018-12-31';\n",
    "\"\"\"\n",
    "connection = create_db_connection(\"localhost\", \"root\", pw, db)\n",
    "results = read_query(connection, q6)\n",
    "for result in results:\n",
    "    print(result)"
   ]
  },
  {
   "cell_type": "code",
   "execution_count": 56,
   "id": "d0352177",
   "metadata": {},
   "outputs": [
    {
     "name": "stdout",
     "output_type": "stream",
     "text": [
      "MySql database connection successful\n",
      "(110, 'Ama', 'Sound system', datetime.date(2018, 6, 13), 12, 11.0, '93292738392')\n",
      "(102, 'Jos', 'Books', datetime.date(2019, 2, 10), 12, 30.0, '6728389191')\n",
      "(104, 'Nancy', 'T-shirts', datetime.date(2018, 7, 14), 30, 40.0, '6282929192')\n",
      "(103, 'Stacy', 'Trousers', datetime.date(2019, 12, 25), 5, 50.0, '8292922092')\n",
      "(109, 'Shirley', 'Smart phone', datetime.date(2019, 8, 19), 10, 63.0, '7382829291')\n",
      "(105, 'Maria', 'Headphones', datetime.date(2019, 8, 20), 10, 300.0, '8292020298')\n",
      "(108, 'Veronica', 'Pressure Cooker', datetime.date(2017, 6, 18), 12, 900.0, '27383939392')\n",
      "(107, 'Monica', 'Camera', datetime.date(2019, 10, 19), 20, 2900.0, '8927263738')\n",
      "(106, 'Danny', 'Smart TV', datetime.date(2018, 8, 20), 10, 7900.0, '9826373837')\n",
      "(101, 'Steve', 'Laptop', datetime.date(2018, 6, 12), 2, 80000.0, '8382929292')\n"
     ]
    }
   ],
   "source": [
    "q7 = \"\"\"\n",
    "select *from orders order by unit_price;\n",
    "\"\"\"\n",
    "connection = create_db_connection(\"localhost\", \"root\", pw, db)\n",
    "results = read_query(connection, q7)\n",
    "for result in results:\n",
    "    print(result)"
   ]
  },
  {
   "cell_type": "code",
   "execution_count": 57,
   "id": "b78f645b",
   "metadata": {},
   "outputs": [
    {
     "name": "stdout",
     "output_type": "stream",
     "text": [
      "MySql database connection successful\n",
      "(101, 'Steve', 'Laptop', datetime.date(2018, 6, 12), 2, 80000.0, '8382929292')\n",
      "(106, 'Danny', 'Smart TV', datetime.date(2018, 8, 20), 10, 7900.0, '9826373837')\n",
      "(107, 'Monica', 'Camera', datetime.date(2019, 10, 19), 20, 2900.0, '8927263738')\n",
      "(108, 'Veronica', 'Pressure Cooker', datetime.date(2017, 6, 18), 12, 900.0, '27383939392')\n",
      "(105, 'Maria', 'Headphones', datetime.date(2019, 8, 20), 10, 300.0, '8292020298')\n",
      "(109, 'Shirley', 'Smart phone', datetime.date(2019, 8, 19), 10, 63.0, '7382829291')\n",
      "(103, 'Stacy', 'Trousers', datetime.date(2019, 12, 25), 5, 50.0, '8292922092')\n",
      "(104, 'Nancy', 'T-shirts', datetime.date(2018, 7, 14), 30, 40.0, '6282929192')\n",
      "(102, 'Jos', 'Books', datetime.date(2019, 2, 10), 12, 30.0, '6728389191')\n",
      "(110, 'Ama', 'Sound system', datetime.date(2018, 6, 13), 12, 11.0, '93292738392')\n"
     ]
    }
   ],
   "source": [
    "q8 = \"\"\"\n",
    "select *from orders order by unit_price desc;\n",
    "\"\"\"\n",
    "connection = create_db_connection(\"localhost\", \"root\", pw, db)\n",
    "results = read_query(connection, q8)\n",
    "for result in results:\n",
    "    print(result)"
   ]
  },
  {
   "cell_type": "code",
   "execution_count": 58,
   "id": "7cf1a316",
   "metadata": {},
   "outputs": [
    {
     "data": {
      "text/html": [
       "<div>\n",
       "<style scoped>\n",
       "    .dataframe tbody tr th:only-of-type {\n",
       "        vertical-align: middle;\n",
       "    }\n",
       "\n",
       "    .dataframe tbody tr th {\n",
       "        vertical-align: top;\n",
       "    }\n",
       "\n",
       "    .dataframe thead th {\n",
       "        text-align: right;\n",
       "    }\n",
       "</style>\n",
       "<table border=\"1\" class=\"dataframe\">\n",
       "  <thead>\n",
       "    <tr style=\"text-align: right;\">\n",
       "      <th></th>\n",
       "      <th>order_id</th>\n",
       "      <th>customer_name</th>\n",
       "      <th>product_name</th>\n",
       "      <th>date_ordered</th>\n",
       "      <th>quantity</th>\n",
       "      <th>unit_price</th>\n",
       "      <th>phone_number</th>\n",
       "    </tr>\n",
       "  </thead>\n",
       "  <tbody>\n",
       "    <tr>\n",
       "      <th>0</th>\n",
       "      <td>101</td>\n",
       "      <td>Steve</td>\n",
       "      <td>Laptop</td>\n",
       "      <td>2018-06-12</td>\n",
       "      <td>2</td>\n",
       "      <td>80000.0</td>\n",
       "      <td>8382929292</td>\n",
       "    </tr>\n",
       "    <tr>\n",
       "      <th>1</th>\n",
       "      <td>106</td>\n",
       "      <td>Danny</td>\n",
       "      <td>Smart TV</td>\n",
       "      <td>2018-08-20</td>\n",
       "      <td>10</td>\n",
       "      <td>7900.0</td>\n",
       "      <td>9826373837</td>\n",
       "    </tr>\n",
       "    <tr>\n",
       "      <th>2</th>\n",
       "      <td>107</td>\n",
       "      <td>Monica</td>\n",
       "      <td>Camera</td>\n",
       "      <td>2019-10-19</td>\n",
       "      <td>20</td>\n",
       "      <td>2900.0</td>\n",
       "      <td>8927263738</td>\n",
       "    </tr>\n",
       "    <tr>\n",
       "      <th>3</th>\n",
       "      <td>108</td>\n",
       "      <td>Veronica</td>\n",
       "      <td>Pressure Cooker</td>\n",
       "      <td>2017-06-18</td>\n",
       "      <td>12</td>\n",
       "      <td>900.0</td>\n",
       "      <td>27383939392</td>\n",
       "    </tr>\n",
       "    <tr>\n",
       "      <th>4</th>\n",
       "      <td>105</td>\n",
       "      <td>Maria</td>\n",
       "      <td>Headphones</td>\n",
       "      <td>2019-08-20</td>\n",
       "      <td>10</td>\n",
       "      <td>300.0</td>\n",
       "      <td>8292020298</td>\n",
       "    </tr>\n",
       "    <tr>\n",
       "      <th>5</th>\n",
       "      <td>109</td>\n",
       "      <td>Shirley</td>\n",
       "      <td>Smart phone</td>\n",
       "      <td>2019-08-19</td>\n",
       "      <td>10</td>\n",
       "      <td>63.0</td>\n",
       "      <td>7382829291</td>\n",
       "    </tr>\n",
       "    <tr>\n",
       "      <th>6</th>\n",
       "      <td>103</td>\n",
       "      <td>Stacy</td>\n",
       "      <td>Trousers</td>\n",
       "      <td>2019-12-25</td>\n",
       "      <td>5</td>\n",
       "      <td>50.0</td>\n",
       "      <td>8292922092</td>\n",
       "    </tr>\n",
       "    <tr>\n",
       "      <th>7</th>\n",
       "      <td>104</td>\n",
       "      <td>Nancy</td>\n",
       "      <td>T-shirts</td>\n",
       "      <td>2018-07-14</td>\n",
       "      <td>30</td>\n",
       "      <td>40.0</td>\n",
       "      <td>6282929192</td>\n",
       "    </tr>\n",
       "    <tr>\n",
       "      <th>8</th>\n",
       "      <td>102</td>\n",
       "      <td>Jos</td>\n",
       "      <td>Books</td>\n",
       "      <td>2019-02-10</td>\n",
       "      <td>12</td>\n",
       "      <td>30.0</td>\n",
       "      <td>6728389191</td>\n",
       "    </tr>\n",
       "    <tr>\n",
       "      <th>9</th>\n",
       "      <td>110</td>\n",
       "      <td>Ama</td>\n",
       "      <td>Sound system</td>\n",
       "      <td>2018-06-13</td>\n",
       "      <td>12</td>\n",
       "      <td>11.0</td>\n",
       "      <td>93292738392</td>\n",
       "    </tr>\n",
       "  </tbody>\n",
       "</table>\n",
       "</div>"
      ],
      "text/plain": [
       "   order_id customer_name     product_name date_ordered  quantity  unit_price  \\\n",
       "0       101         Steve           Laptop   2018-06-12         2     80000.0   \n",
       "1       106         Danny         Smart TV   2018-08-20        10      7900.0   \n",
       "2       107        Monica           Camera   2019-10-19        20      2900.0   \n",
       "3       108      Veronica  Pressure Cooker   2017-06-18        12       900.0   \n",
       "4       105         Maria       Headphones   2019-08-20        10       300.0   \n",
       "5       109       Shirley      Smart phone   2019-08-19        10        63.0   \n",
       "6       103         Stacy         Trousers   2019-12-25         5        50.0   \n",
       "7       104         Nancy         T-shirts   2018-07-14        30        40.0   \n",
       "8       102           Jos            Books   2019-02-10        12        30.0   \n",
       "9       110           Ama     Sound system   2018-06-13        12        11.0   \n",
       "\n",
       "  phone_number  \n",
       "0   8382929292  \n",
       "1   9826373837  \n",
       "2   8927263738  \n",
       "3  27383939392  \n",
       "4   8292020298  \n",
       "5   7382829291  \n",
       "6   8292922092  \n",
       "7   6282929192  \n",
       "8   6728389191  \n",
       "9  93292738392  "
      ]
     },
     "metadata": {},
     "output_type": "display_data"
    }
   ],
   "source": [
    "from_db = []\n",
    "for result in results:\n",
    "    result = list(result)\n",
    "    from_db.append(result)\n",
    "columns = [\"order_id\", \"customer_name\", \"product_name\", \"date_ordered\", \"quantity\", \n",
    "          \"unit_price\", \"phone_number\"]\n",
    "df = pd.DataFrame(from_db, columns = columns)\n",
    "display(df)"
   ]
  },
  {
   "cell_type": "code",
   "execution_count": 61,
   "id": "29311ffa",
   "metadata": {},
   "outputs": [
    {
     "name": "stdout",
     "output_type": "stream",
     "text": [
      "MySql database connection successful\n",
      "Query was successful\n"
     ]
    }
   ],
   "source": [
    "#Update a command\n",
    "update = \"\"\"\n",
    "update orders\n",
    "set unit_price = 45\n",
    "where order_id = 103\n",
    "\"\"\"\n",
    "connection = create_db_connection(\"localhost\", \"root\", pw, db)\n",
    "execute_query(connection, update)\n"
   ]
  },
  {
   "cell_type": "code",
   "execution_count": 62,
   "id": "c90d37aa",
   "metadata": {},
   "outputs": [
    {
     "name": "stdout",
     "output_type": "stream",
     "text": [
      "MySql database connection successful\n",
      "(103, 'Stacy', 'Trousers', datetime.date(2019, 12, 25), 5, 45.0, '8292922092')\n"
     ]
    }
   ],
   "source": [
    "q8 = \"\"\"\n",
    "select *from orders where order_id = 103;\n",
    "\"\"\"\n",
    "connection = create_db_connection(\"localhost\", \"root\", pw, db)\n",
    "results = read_query(connection, q8)\n",
    "for result in results:\n",
    "    print(result)"
   ]
  },
  {
   "cell_type": "code",
   "execution_count": null,
   "id": "b5913ef3",
   "metadata": {},
   "outputs": [],
   "source": [
    "#Delete command\n",
    "delete_order =\"\"\"\n",
    "delete from orders\n",
    "where order_id = 105;\n",
    "\"\"\"\n",
    "connection = create_db_connection(\"localhost\", \"root\", pw, db)\n",
    "execute_query(connection, delete_order)"
   ]
  }
 ],
 "metadata": {
  "kernelspec": {
   "display_name": "Python 3 (ipykernel)",
   "language": "python",
   "name": "python3"
  },
  "language_info": {
   "codemirror_mode": {
    "name": "ipython",
    "version": 3
   },
   "file_extension": ".py",
   "mimetype": "text/x-python",
   "name": "python",
   "nbconvert_exporter": "python",
   "pygments_lexer": "ipython3",
   "version": "3.9.7"
  }
 },
 "nbformat": 4,
 "nbformat_minor": 5
}
